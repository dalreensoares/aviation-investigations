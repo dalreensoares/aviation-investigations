{
 "cells": [
  {
   "cell_type": "code",
   "execution_count": 73,
   "metadata": {},
   "outputs": [],
   "source": [
    "#pip install python-docx"
   ]
  },
  {
   "cell_type": "code",
   "execution_count": 74,
   "metadata": {},
   "outputs": [],
   "source": [
    "import functions\n",
    "import docx\n",
    "import requests "
   ]
  },
  {
   "cell_type": "code",
   "execution_count": 86,
   "metadata": {},
   "outputs": [],
   "source": [
    "from dotenv import load_dotenv\n",
    "import os\n",
    "\n",
    "# Load environment variables from a .env file\n",
    "load_dotenv()\n",
    "\n",
    "# Retrieve the API key from the environment variables\n",
    "api_key = os.getenv(\"HUGGINGFACE_API_KEY\")"
   ]
  },
  {
   "cell_type": "code",
   "execution_count": 75,
   "metadata": {},
   "outputs": [],
   "source": [
    "chat_completion = functions.chat_completion"
   ]
  },
  {
   "cell_type": "code",
   "execution_count": 76,
   "metadata": {},
   "outputs": [
    {
     "data": {
      "text/plain": [
       "\"This instruction appears to be a straightforward greeting in English. No further action is required beyond acknowledging the greeting, as it's a typical form of communication in many contexts.\""
      ]
     },
     "execution_count": 76,
     "metadata": {},
     "output_type": "execute_result"
    }
   ],
   "source": [
    "chat_completion (\"hello\")"
   ]
  },
  {
   "cell_type": "code",
   "execution_count": 77,
   "metadata": {},
   "outputs": [],
   "source": [
    "# Specify the file path (make sure it's correct)\n",
    "file_path = '..\\Incident_Reports\\incident_report_1.txt'\n",
    "\n",
    "# Open the file in read mode and read its content into a string\n",
    "with open(file_path, 'r') as file:\n",
    "    incident_report_1 = file.read()\n",
    "\n",
    "# Now, file_content contains the entire content of the file as a string\n",
    "#print(incident_report_1)"
   ]
  },
  {
   "cell_type": "code",
   "execution_count": 78,
   "metadata": {},
   "outputs": [],
   "source": [
    "# Specify the file path (make sure it's correct)\n",
    "file_path = r'C:\\Users\\dalre\\Documents\\GitHub\\aviation_investigation_model\\Transcriptions\\transcribe_recording1.txt'\n",
    "\n",
    "# Open the file in read mode and read its content into a string\n",
    "with open(file_path, 'r') as file:\n",
    "    transcription_1 = file.read()\n",
    "\n",
    "# Now, file_content contains the entire content of the file as a string\n",
    "#print(transcription_1)"
   ]
  },
  {
   "cell_type": "code",
   "execution_count": 79,
   "metadata": {},
   "outputs": [],
   "source": [
    "# Specify the file path (make sure it's correct)\n",
    "file_path = r'C:\\Users\\dalre\\Documents\\GitHub\\aviation_investigation_model\\Conclusions\\conclusion_2.txt'\n",
    "\n",
    "# Open the file in read mode and read its content into a string\n",
    "with open(file_path, 'r') as file:\n",
    "    conclusion= file.read()\n",
    "\n",
    "# Now, file_content contains the entire content of the file as a string\n",
    "#print(conclusion)"
   ]
  },
  {
   "cell_type": "code",
   "execution_count": 80,
   "metadata": {},
   "outputs": [],
   "source": [
    "# Specify the file path (make sure it's correct)\n",
    "file_path = r'C:\\Users\\dalre\\Documents\\GitHub\\aviation_investigation_model\\Data\\classification.txt'\n",
    "\n",
    "# Open the file in read mode and read its content into a string\n",
    "with open(file_path, 'r') as file:\n",
    "    classification= file.read()\n",
    "\n",
    "# Now, file_content contains the entire content of the file as a string\n",
    "#print(conclusion)"
   ]
  },
  {
   "cell_type": "code",
   "execution_count": 82,
   "metadata": {},
   "outputs": [],
   "source": [
    "prompt = f\"\"\"\n",
    "Your Task: write a conclusion in 300 words based on the transcription, \n",
    "following example output. \n",
    "Focus on:\n",
    "Severity <{classification}> based on the situation.\n",
    "Runway and operational details.\n",
    "ATCO actions during the incident.\n",
    "Consequences and possible investigations.\n",
    "example output: <{conclusion}>\n",
    "transcription: <{transcription_1}>\n",
    "\"\"\""
   ]
  },
  {
   "cell_type": "markdown",
   "metadata": {},
   "source": [
    "#incident_report:<{incident_report_1}>"
   ]
  },
  {
   "cell_type": "code",
   "execution_count": 83,
   "metadata": {},
   "outputs": [
    {
     "data": {
      "text/plain": [
       "\"<**Severity Category B (Significant)**  \\n**ATCO Actions & Aircraft Interactions**  \\nAT Coordinator's Actions - Managed a near-collision scenario between United Airlines 4253 and American Airlines 3721 involving erroneous taxiing on taxiway Yankee during ramp operations. Some confusion was displayed when Federal Aviation Administration (FAA) inspectors requested a pilot deviation investigation.  \\n**Significant Closeness** - The airspace was occupied with multiple conveyances heading towards Runway 1 at varying velocities, increasing operational pressure.  \\n**Decision Actions Taken** - The ATCO swiftly issued taxiway detours to both aircraft and ensured relays of updates despite the dynamic situation.  \\n**Operational Disruption** - Albeit minimal, the episode occurred amid bustling operations.  \\n**Adverse Weather** - The prevailing winds at twelve knots, gusting to seventeen, remained moderate, not posing significant risk during this traffic management effort.>\\n\\n<**Conclusion**  \\nBetting on the safety in managing ramp airspace requires vigilance and efficient communication among ATCOs, pilots, and other operational participants. The incident captured on Runway 15's ramp brought to light the challenges associated with airport traffic management amid a high-workload environment despite the relatively mild weather conditions. The intervention by the ATCO—managing the airspace with conveyances heading towards Runway 1 at varying velocities — indicated the necessity of clear, concise communication, particularly in such congested situations. Following this event, the workload imposed on the ATCOs was adjudged high despite the relatively mild weather conditions—indicating the importance of persistent communication and operational clarity in aircraft movement coordination. As this incident conveyed modest trespass continue to extend to all other operational domains, learning from such incidents continues to be invaluable.\\n\\nIn this scenario, FAA inspectors indicated a pilot deviation may result in added inspectors, validating the dynamic interaction process.  \\n**Potential Primary** - The discussion thread conclusion time level of aircraft movement (accident **Severity level incorrect conduct of\""
      ]
     },
     "metadata": {},
     "output_type": "display_data"
    }
   ],
   "source": [
    "from IPython.display import display\n",
    "display(chat_completion(prompt))"
   ]
  },
  {
   "cell_type": "markdown",
   "metadata": {},
   "source": [
    "Conclusion\\nSeverity Category B (Significant) for the incident involving United 326 and Skywest 3721 during a busy operational period at KBKX illustrates substantial operational challenges and human factors contributing to a critical moment where procedural adherence and communication were crucial.\\n\\nRunway and Operational Details:\\nRunway 15 and 8 were in use, as indicated by the ATCO (Air Traffic Control) instructions directing United 326 for takeoff on runway 15 and Skywest 3721 to hold on crossing runway 15.\\n\\nATCO Actions During the Incident:\\nATC communicated openly and promptly with the flight crews involved, showcasing the controller's attention to procedure and the preservation of safety. However, the incident occurred due to a miscommunication regarding the hold instructions to Skywest 3721, leading to an ambiguous situation where Skywest 3721 crossed the intended runway for United 326.\\n\\nSkywest 3721 was instructed to hold without clear verbal confirmation, resulting in their initial crossing of the runway in error, but with no immediate collision as Sandra AMF1943 adeptly achieved a go-around. \\n\\nConsequences and Possible Investigations:\\nFollowing the event, ground control directed United 326 and related parties to specific frequencies to clarify the situation, demonstrating a systematic approach to resolving the ambiguity. Although procedural non-compliance occurred, there were no reported injuries, damages, or US FARs (Federal Aviation Regulations) infractions were violated, most importantly, the potential for loss of separation, which was fortunately not realized due to successful aircraft recovery actions.\\n\\nThe accident and significant close calls on the boundary-condition of Pilot deviation necessitated an evaluation of the communication protocol used between ground control and flight crew. It is suggested that confusion and the critical nature of the case merit a detailed investigation not for a potential radi\\noughbreaking near\\n\\nIn conclusion, the incident can be classified as high severity, with emphasis on:\\n\\nPilot Noncompliance and runway incurs\""
   ]
  }
 ],
 "metadata": {
  "kernelspec": {
   "display_name": "base",
   "language": "python",
   "name": "python3"
  },
  "language_info": {
   "codemirror_mode": {
    "name": "ipython",
    "version": 3
   },
   "file_extension": ".py",
   "mimetype": "text/x-python",
   "name": "python",
   "nbconvert_exporter": "python",
   "pygments_lexer": "ipython3",
   "version": "3.11.7"
  }
 },
 "nbformat": 4,
 "nbformat_minor": 2
}
