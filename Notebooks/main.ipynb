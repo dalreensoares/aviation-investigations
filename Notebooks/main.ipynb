{
 "cells": [
  {
   "cell_type": "code",
   "execution_count": 73,
   "metadata": {},
   "outputs": [],
   "source": [
    "#pip install python-docx"
   ]
  },
  {
   "cell_type": "code",
   "execution_count": 74,
   "metadata": {},
   "outputs": [],
   "source": [
    "import functions\n",
    "import docx\n",
    "import requests "
   ]
  },
  {
   "cell_type": "code",
   "execution_count": 86,
   "metadata": {},
   "outputs": [],
   "source": [
    "from dotenv import load_dotenv\n",
    "import os\n",
    "\n",
    "# Load environment variables from a .env file\n",
    "load_dotenv()\n",
    "\n",
    "# Retrieve the API key from the environment variables\n",
    "api_key = os.getenv(\"HUGGINGFACE_API_KEY\")"
   ]
  },
  {
   "cell_type": "code",
   "execution_count": 75,
   "metadata": {},
   "outputs": [],
   "source": [
    "chat_completion = functions.chat_completion"
   ]
  },
  {
   "cell_type": "code",
   "execution_count": 76,
   "metadata": {},
   "outputs": [
    {
     "data": {
      "text/plain": [
       "\"This instruction appears to be a straightforward greeting in English. No further action is required beyond acknowledging the greeting, as it's a typical form of communication in many contexts.\""
      ]
     },
     "execution_count": 76,
     "metadata": {},
     "output_type": "execute_result"
    }
   ],
   "source": [
    "chat_completion (\"hello\")"
   ]
  },
  {
   "cell_type": "code",
   "execution_count": 77,
   "metadata": {},
   "outputs": [],
   "source": [
    "# Specify the file path (make sure it's correct)\n",
    "file_path = '..\\Incident_Reports\\incident_report_1.txt'\n",
    "\n",
    "# Open the file in read mode and read its content into a string\n",
    "with open(file_path, 'r') as file:\n",
    "    incident_report_1 = file.read()\n",
    "\n",
    "# Now, file_content contains the entire content of the file as a string\n",
    "#print(incident_report_1)"
   ]
  },
  {
   "cell_type": "code",
   "execution_count": 78,
   "metadata": {},
   "outputs": [],
   "source": [
    "# Specify the file path (make sure it's correct)\n",
    "file_path = r'C:\\Users\\dalre\\Documents\\GitHub\\aviation_investigation_model\\Transcriptions\\transcribe_recording1.txt'\n",
    "\n",
    "# Open the file in read mode and read its content into a string\n",
    "with open(file_path, 'r') as file:\n",
    "    transcription_1 = file.read()\n",
    "\n",
    "# Now, file_content contains the entire content of the file as a string\n",
    "#print(transcription_1)"
   ]
  },
  {
   "cell_type": "code",
   "execution_count": 79,
   "metadata": {},
   "outputs": [],
   "source": [
    "# Specify the file path (make sure it's correct)\n",
    "file_path = r'C:\\Users\\dalre\\Documents\\GitHub\\aviation_investigation_model\\Conclusions\\conclusion_2.txt'\n",
    "\n",
    "# Open the file in read mode and read its content into a string\n",
    "with open(file_path, 'r') as file:\n",
    "    conclusion= file.read()\n",
    "\n",
    "# Now, file_content contains the entire content of the file as a string\n",
    "#print(conclusion)"
   ]
  },
  {
   "cell_type": "code",
   "execution_count": 80,
   "metadata": {},
   "outputs": [],
   "source": [
    "# Specify the file path (make sure it's correct)\n",
    "file_path = r'C:\\Users\\dalre\\Documents\\GitHub\\aviation_investigation_model\\Data\\classification.txt'\n",
    "\n",
    "# Open the file in read mode and read its content into a string\n",
    "with open(file_path, 'r') as file:\n",
    "    classification= file.read()\n",
    "\n",
    "# Now, file_content contains the entire content of the file as a string\n",
    "#print(conclusion)"
   ]
  },
  {
   "cell_type": "code",
   "execution_count": 82,
   "metadata": {},
   "outputs": [],
   "source": [
    "prompt = f\"\"\"\n",
    "Your Task: write a conclusion in 300 words based on the transcription, \n",
    "following example output. \n",
    "Focus on:\n",
    "Severity <{classification}> based on the situation.\n",
    "Runway and operational details.\n",
    "ATCO actions during the incident.\n",
    "Consequences and possible investigations.\n",
    "example output: <{conclusion}>\n",
    "transcription: <{transcription_1}>\n",
    "\"\"\""
   ]
  },
  {
   "cell_type": "markdown",
   "metadata": {},
   "source": [
    "#incident_report:<{incident_report_1}>"
   ]
  },
  {
   "cell_type": "code",
   "execution_count": null,
   "metadata": {},
   "outputs": [],
   "source": [
    "from IPython.display import display\n",
    "display(chat_completion(prompt))"
   ]
  }
 ],
 "metadata": {
  "kernelspec": {
   "display_name": "base",
   "language": "python",
   "name": "python3"
  },
  "language_info": {
   "codemirror_mode": {
    "name": "ipython",
    "version": 3
   },
   "file_extension": ".py",
   "mimetype": "text/x-python",
   "name": "python",
   "nbconvert_exporter": "python",
   "pygments_lexer": "ipython3",
   "version": "3.11.7"
  }
 },
 "nbformat": 4,
 "nbformat_minor": 2
}
